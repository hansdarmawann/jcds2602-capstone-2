{
 "cells": [
  {
   "cell_type": "markdown",
   "id": "348b2865",
   "metadata": {},
   "source": [
    "# NYC TLC Taxi Trip Data Analysis"
   ]
  },
  {
   "cell_type": "markdown",
   "id": "c9bcde17",
   "metadata": {},
   "source": [
    "## Background\n",
    "The New York City Taxi and Limousine Commission (NYC TLC) oversees paratransit, for-hire, and taxi sectors in New York City. NYC TLC was created in 1937 to make sure that these services were easy to get to, safe, and of good quality. Its goals were also to support fair competition and protect the rights of passengers and drivers. One aspect of NYC TLC's business operations is the management and control of taxi and for-hire vehicle services. Issuing licenses, testing, enforcing rules, and collecting data on taxi rides are all necessary to spot trends and improve the quality of the services. In the taxi business, tipping is fairly common; clients pay drivers more for their services. NYC TLC needs to fully comprehend tipping behavior to guarantee fair driver compensation and increase overall customer satisfaction."
   ]
  },
  {
   "cell_type": "markdown",
   "id": "10a0c3b9",
   "metadata": {},
   "source": [
    "## Gap Analysis\n",
    "Although the NYC TLC provides much information, the taxi firm lacks sufficient knowledge of handling tips. The record contains data on travel expenses, locations, and payment methods but not much on what influences people's tip or non-tip behavior. The study overlooks some topics, such as the length of the trip, the time of day, and the kinds of people traveling. This complicates the identification of irregular or consistent tipping patterns among individuals. Additionally, we are unable to ascertain the reasons why certain individuals leave substantial tips while others do not, as we do not possess sufficient data regarding customer satisfaction or service quality."
   ]
  },
  {
   "cell_type": "markdown",
   "id": "b4409fd5",
   "metadata": {},
   "source": [
    "## Problem Statement\n",
    "The primary issue currently being discussed is the lack of clarity regarding the factors that influence the amount of tips individuals leave in taxis in New York City. Given the information, it is important to look at how factors like trip distance, price amount, and time of day affect how much customers tip. Knowing these links, NYC TLC will be able to see patterns in how people act, which will help them make rules that will improve service and get people to tip more. The study also uncovered data that could guide the training of drivers in customer service techniques that foster tipping. Such lessons would improve both the cab service experience and the driving conditions."
   ]
  },
  {
   "cell_type": "markdown",
   "id": "9bc79d76",
   "metadata": {},
   "source": [
    "## Insight Questions\n",
    "1.\tWhat is the average tip amount across different boroughs, and how does it vary by zone?\n",
    "2.\tHow does the trip distance correlate with the tip amount given by passengers?\n",
    "3.\tWhat are the peak hours for tipping, and do they align with peak travel times?\n",
    "4.\tHow does the payment type (e.g., cash vs. credit card) affect the likelihood and amount of tips given?\n",
    "5.\tAre there specific trip characteristics (e.g., duration, fare amount) that significantly influence tipping behavior?\n",
    "6.\tWhat percentage of total fare is typically represented by tips, and how does this vary across different trip types?"
   ]
  },
  {
   "cell_type": "markdown",
   "id": "6943316f",
   "metadata": {},
   "source": [
    "## Data Understanding\n",
    "\n",
    "Deep exploration is needed to fully understand the data, including its structure, details, and overall quality. This makes data analysis understanding a very important step in the process of analyzing any data set. It looks for things in a set of data that can be put into different groups, outliers, or relationships, which can greatly change the outcome of other analyses done on the same data. Therefore, understanding the data to the fullest allows the analyst to make calculated decisions regarding data reliability, the quality of the data itself, and the methods of analysis that will be applied.\n",
    "\n",
    "The NYC TLC maintains this dataset, which contains a wide range of information about taxi trips in New York City. The TLC trip record dataset is a rich collection. As one can see, this dataset contains various attributes, including but not limited to pickup and drop-off times, number of passengers, distance of the trip, fare given, and even the type of payment used. Transportation analysts, urban planners, and policymakers can use each record to learn more about how taxis work, how customers act, and how to improve service quality.\n",
    "\n",
    "### Detailed Explanation of NYC TLC Trip Record Data Dictionary Columns\n",
    "\n",
    "#### 1. **VendorID**\n",
    "The VendorID is a code indicating the LPEP (Local Public Electric Provider) that provided the record. This identifier helps differentiate the myriad of service providers within New York City and thus assists in the more refined evaluation of performance metrics. When analysts look at ride records from various vendors, they can draw more accurate conclusions about patterns in the quality of service and customer satisfaction. **Values are:**  \n",
    "- 1 = Creative Mobile Technologies, LLC  \n",
    "- 2 = VeriFone Inc.  \n",
    "\n",
    "#### 2. **lpep_pickup_datetime**\n",
    "The lpep_pickup_datetime illustrates the specific date and time when the taxi's meter was activated. This timestamp is critical for estimating the duration of the trip and determining the peak usage times. Examining pickup times can also help analyze trends in demand, such as busy hours or seasonality.\n",
    "\n",
    "#### 3. **lpep_dropoff_datetime**\n",
    "The lpep_dropoff_datetime provides the date and time of the meter's disengagement. This timestamp, in conjunction with the pickup time, allows for the calculation of total trip duration. It can also help to find patterns in drop-off times and places, which can help with transportation and urban planning.\n",
    "\n",
    "#### 4. **Passenger_count**\n",
    "The passenger_count reflects the number of passengers in the vehicle, as entered by the driver. This information is vital for understanding the capacity utilization of taxi services. Counting the number of passengers can help to see patterns in how groups travel and how much demand there is for bigger vehicles.\n",
    "\n",
    "#### 5. **Trip_distance**\n",
    "The trip_distance indicates the miles covered during the trip as recorded by the taximeter. This metric is determining fare costs and evaluating the performance of a taxi service in a given region. The analysis of distances traveled for an individual trip may show many characteristics of the movement of passengers: for instance, their inclination towards short or long trips.\n",
    "\n",
    "#### 6. **PULocationID**\n",
    "The PULocationID correlates to the TLC Taxi Zone, where the taximeter was activated. This parameter can be used to find out where trips start and to look at spatial demand features. By looking at pickup points, you can find places where taxi services are in high demand, which can help you plan how to cover those areas.\n",
    "\n",
    "#### 7. **DOLocationID**\n",
    "The DOLocationID establishes the disengaged TLC Taxi Zone, where the taximeter activates. This identifier is important for locating trip endpoints and studying people's movement in different parts of the city. It might be possible to tell how popular places like airports, hotels, and recreation areas are by looking at who drops people off there.\n",
    "\n",
    "#### 8. **RateCodeID**\n",
    "The RateCodeID corresponds to the last rate code effective toward the end of the trip. This code outlines the applicable fare structure, which varies based on location and time. Understanding rate codes is important for figuring out how to set prices and analyzing fare revenue. **Values are:**  \n",
    "- 1 = Standard rate  \n",
    "- 2 = JFK  \n",
    "- 3 = Newark  \n",
    "- 4 = Nassau or Westchester  \n",
    "- 5 = Negotiated fare  \n",
    "- 6 = Group ride  \n",
    "\n",
    "#### 9. **Store_and_fwd_flag**\n",
    "The store_and_fwd_flag indicates whether the vehicle’s memory captured the trip record prior to sending it to the vendor. This flag is relevant in evaluating the dependability of data transfer and the quality of service. Analyzing store-and-forward trips can assist in diagnosing connectivity and reporting problems.\n",
    "\n",
    "#### 10. **Payment_type**\n",
    "The payment_method represents a payment method for the trip. This information helps identify important payment patterns and preferences for passengers. A look at the different ways people pay shows that people are moving away from cash and toward digital and non-cash payments. **Values are:**  \n",
    "- 1 = Credit card  \n",
    "- 2 = Cash  \n",
    "- 3 = No charge  \n",
    "- 4 = Dispute  \n",
    "- 5 = Unknown  \n",
    "- 6 = Voided trip  \n",
    "\n",
    "#### 11. **Fare_amount**\n",
    "The fare_amount is the time-and-distance fare calculated by the meter. This amount is a key component of the total fare charged to passengers. Analyzing fare amounts can help identify trends in pricing and fare structures across different times and locations.\n",
    "\n",
    "#### 12. **Extra**\n",
    "The extra column includes miscellaneous extras and surcharges, currently including $0.50 and $1 rush hour and overnight charges. This information is important for understanding the total cost of a trip beyond the base fare. Analyzing extra charges can help identify trends in passenger behavior during peak times.\n",
    "\n",
    "#### 13. **MTA_tax**\n",
    "The MTA_tax is a $0.50 tax that is automatically triggered based on the metered rate in use. This tax is a critical component of the fare structure and contributes to funding public transportation. Analyzing MTA tax data can help assess its impact on overall fare prices and passenger behavior.\n",
    "\n",
    "#### 14. **Improvement_surcharge**\n",
    "The improvement_surcharge is a $0.30 fee assessed on hailed trips at the flag drop, which began in 2015. This surcharge is intended to fund improvements in taxi services and infrastructure. Analyzing this surcharge can help assess its impact on fare prices and passenger acceptance.\n",
    "\n",
    "#### 15. **Tip_amount**\n",
    "The tip_amount is automatically populated for credit card tips, while cash tips are not included. This information is essential for understanding passenger generosity and service quality perceptions. Analyzing tip amounts can help identify trends in customer satisfaction and service performance.\n",
    "\n",
    "#### 16. **Tolls_amount**\n",
    "The tolls_amount reflects the total amount of all tolls paid during the trip. This metric is crucial for understanding the additional costs incurred by passengers and drivers. Analyzing toll amounts can help identify trends in route selection and the impact of tolls on fare prices.\n",
    "\n",
    "#### 17. **Total_amount**\n",
    "The total_amount is the total amount charged to passengers, excluding cash tips. This figure represents the final cost of the trip and is critical for revenue analysis. Analyzing total amounts can help identify trends in pricing and passenger spending behavior.\n",
    "\n",
    "#### 18. **Trip_type**\n",
    "The trip_type is a code indicating whether the trip was a street hail or a dispatch, automatically assigned based on the metered rate in use but can be altered by the driver. This classification is important for understanding the nature of taxi services provided. Analyzing trip types can help identify trends in passenger preferences for hailed versus dispatched rides. **Values are:**  \n",
    "- 1 = Street-hail  \n",
    "- 2 = Dispatch  "
   ]
  },
  {
   "cell_type": "markdown",
   "id": "f0d56dd9",
   "metadata": {},
   "source": [
    "# Data Wrangling\n",
    "\n",
    "Data wrangling, also called \"data munging\" or \"data preparation,\" resolves common problems with the quality of data, such as missing values, duplicates, outliers, and mistakes in the layout. Transforming disorganized or troublesome data into clean datasets for easy analysis will help people make better decisions. Data wrangling is important because it ensures that the datasets created are clean, consistent, and reliable. These skills are needed for jobs like creating machine learning models, analyzing data, creating data visualizations, creating business intelligence reports, and helping executives make decisions. When data is not handled correctly, the results of the data analysis can be confusing, which can lead to incorrect business decisions and conclusions."
   ]
  },
  {
   "cell_type": "markdown",
   "id": "fc8bff6a",
   "metadata": {},
   "source": [
    "## The Data Wrangling Process\n",
    "\n",
    "The job of the data handling process is to get raw data ready for study. Usually, it has several important steps. Each stage is supposed to deal with a different problem related to the data's quality and use. These steps include locating data sources, standardizing data, fixing mistakes, adding more data to improve datasets, and ensuring the new data is correct. By following these methods regularly, data in the end files are clean, uniform, and ready for a more in-depth look. In conclusion, this process enhances the effectiveness and reliability of fact-based decision-making."
   ]
  },
  {
   "cell_type": "markdown",
   "id": "a8c1c3c1",
   "metadata": {},
   "source": [
    "### Discovering\n",
    "\n",
    "The discovering phase focuses on the assessment of the quality of the complete dataset, including its sources and formats. This initial evaluation is crucial for identifying potential issues that could affect the analysis. During this phase, the quality of the data set is assessed, and data sources and formats are identified. Quality issues such as missing data, formatting inconsistencies, errors, or bias, and outliers that might skew the analysis are highlighted and addressed. The findings are typically documented in a data quality report or a more technical document known as a data profiling report, which includes statistics, distributions, and other results."
   ]
  },
  {
   "cell_type": "code",
   "execution_count": 177,
   "id": "2e42183e",
   "metadata": {},
   "outputs": [
    {
     "data": {
      "text/html": [
       "<div>\n",
       "<style scoped>\n",
       "    .dataframe tbody tr th:only-of-type {\n",
       "        vertical-align: middle;\n",
       "    }\n",
       "\n",
       "    .dataframe tbody tr th {\n",
       "        vertical-align: top;\n",
       "    }\n",
       "\n",
       "    .dataframe thead th {\n",
       "        text-align: right;\n",
       "    }\n",
       "</style>\n",
       "<table border=\"1\" class=\"dataframe\">\n",
       "  <thead>\n",
       "    <tr style=\"text-align: right;\">\n",
       "      <th></th>\n",
       "      <th>Column Name</th>\n",
       "      <th>Type</th>\n",
       "      <th>Sample Value</th>\n",
       "    </tr>\n",
       "  </thead>\n",
       "  <tbody>\n",
       "    <tr>\n",
       "      <th>0</th>\n",
       "      <td>VendorID</td>\n",
       "      <td>int64</td>\n",
       "      <td>2</td>\n",
       "    </tr>\n",
       "    <tr>\n",
       "      <th>1</th>\n",
       "      <td>lpep_pickup_datetime</td>\n",
       "      <td>object</td>\n",
       "      <td>2023-01-01 00:26:10</td>\n",
       "    </tr>\n",
       "    <tr>\n",
       "      <th>2</th>\n",
       "      <td>lpep_dropoff_datetime</td>\n",
       "      <td>object</td>\n",
       "      <td>2023-01-01 00:37:11</td>\n",
       "    </tr>\n",
       "    <tr>\n",
       "      <th>3</th>\n",
       "      <td>store_and_fwd_flag</td>\n",
       "      <td>object</td>\n",
       "      <td>N</td>\n",
       "    </tr>\n",
       "    <tr>\n",
       "      <th>4</th>\n",
       "      <td>RatecodeID</td>\n",
       "      <td>float64</td>\n",
       "      <td>1.00</td>\n",
       "    </tr>\n",
       "    <tr>\n",
       "      <th>5</th>\n",
       "      <td>PULocationID</td>\n",
       "      <td>int64</td>\n",
       "      <td>166</td>\n",
       "    </tr>\n",
       "    <tr>\n",
       "      <th>6</th>\n",
       "      <td>DOLocationID</td>\n",
       "      <td>int64</td>\n",
       "      <td>143</td>\n",
       "    </tr>\n",
       "    <tr>\n",
       "      <th>7</th>\n",
       "      <td>passenger_count</td>\n",
       "      <td>float64</td>\n",
       "      <td>1.00</td>\n",
       "    </tr>\n",
       "    <tr>\n",
       "      <th>8</th>\n",
       "      <td>trip_distance</td>\n",
       "      <td>float64</td>\n",
       "      <td>2.58</td>\n",
       "    </tr>\n",
       "    <tr>\n",
       "      <th>9</th>\n",
       "      <td>fare_amount</td>\n",
       "      <td>float64</td>\n",
       "      <td>14.90</td>\n",
       "    </tr>\n",
       "    <tr>\n",
       "      <th>10</th>\n",
       "      <td>extra</td>\n",
       "      <td>float64</td>\n",
       "      <td>1.00</td>\n",
       "    </tr>\n",
       "    <tr>\n",
       "      <th>11</th>\n",
       "      <td>mta_tax</td>\n",
       "      <td>float64</td>\n",
       "      <td>0.50</td>\n",
       "    </tr>\n",
       "    <tr>\n",
       "      <th>12</th>\n",
       "      <td>tip_amount</td>\n",
       "      <td>float64</td>\n",
       "      <td>4.03</td>\n",
       "    </tr>\n",
       "    <tr>\n",
       "      <th>13</th>\n",
       "      <td>tolls_amount</td>\n",
       "      <td>float64</td>\n",
       "      <td>0.00</td>\n",
       "    </tr>\n",
       "    <tr>\n",
       "      <th>14</th>\n",
       "      <td>ehail_fee</td>\n",
       "      <td>float64</td>\n",
       "      <td>NaN</td>\n",
       "    </tr>\n",
       "    <tr>\n",
       "      <th>15</th>\n",
       "      <td>improvement_surcharge</td>\n",
       "      <td>float64</td>\n",
       "      <td>1.00</td>\n",
       "    </tr>\n",
       "    <tr>\n",
       "      <th>16</th>\n",
       "      <td>total_amount</td>\n",
       "      <td>float64</td>\n",
       "      <td>24.18</td>\n",
       "    </tr>\n",
       "    <tr>\n",
       "      <th>17</th>\n",
       "      <td>payment_type</td>\n",
       "      <td>float64</td>\n",
       "      <td>1.00</td>\n",
       "    </tr>\n",
       "    <tr>\n",
       "      <th>18</th>\n",
       "      <td>trip_type</td>\n",
       "      <td>float64</td>\n",
       "      <td>1.00</td>\n",
       "    </tr>\n",
       "    <tr>\n",
       "      <th>19</th>\n",
       "      <td>congestion_surcharge</td>\n",
       "      <td>float64</td>\n",
       "      <td>2.75</td>\n",
       "    </tr>\n",
       "  </tbody>\n",
       "</table>\n",
       "</div>"
      ],
      "text/plain": [
       "              Column Name     Type         Sample Value\n",
       "0                VendorID    int64                    2\n",
       "1    lpep_pickup_datetime   object  2023-01-01 00:26:10\n",
       "2   lpep_dropoff_datetime   object  2023-01-01 00:37:11\n",
       "3      store_and_fwd_flag   object                    N\n",
       "4              RatecodeID  float64                 1.00\n",
       "5            PULocationID    int64                  166\n",
       "6            DOLocationID    int64                  143\n",
       "7         passenger_count  float64                 1.00\n",
       "8           trip_distance  float64                 2.58\n",
       "9             fare_amount  float64                14.90\n",
       "10                  extra  float64                 1.00\n",
       "11                mta_tax  float64                 0.50\n",
       "12             tip_amount  float64                 4.03\n",
       "13           tolls_amount  float64                 0.00\n",
       "14              ehail_fee  float64                  NaN\n",
       "15  improvement_surcharge  float64                 1.00\n",
       "16           total_amount  float64                24.18\n",
       "17           payment_type  float64                 1.00\n",
       "18              trip_type  float64                 1.00\n",
       "19   congestion_surcharge  float64                 2.75"
      ]
     },
     "execution_count": 177,
     "metadata": {},
     "output_type": "execute_result"
    }
   ],
   "source": [
    "import pandas as pd\n",
    "import warnings\n",
    "\n",
    "warnings.filterwarnings('ignore')\n",
    "pd.set_option('display.max_columns', None)\n",
    "pd.set_option('display.max_rows', None)\n",
    "pd.set_option('display.float_format', '{:.2f}'.format)\n",
    "\n",
    "# Load the csv file\n",
    "real_trips = pd.read_csv('NYC TLC Trip Record.csv')\n",
    "trips = real_trips.copy()\n",
    "\n",
    "# Create a dictionary to map column names to sample values\n",
    "sample_values = dict()\n",
    "for column in trips.columns:\n",
    "    sample_values[column] = trips[column].head(1).values[0]\n",
    "sample_values\n",
    "\n",
    "# Check formatting inconsistencies\n",
    "trips_dtypes = trips.dtypes.reset_index().rename(columns={0: 'Type', 'index': 'Column Name'})\n",
    "trips_dtypes['Sample Value'] = trips_dtypes['Column Name'].map(sample_values)\n",
    "trips_dtypes"
   ]
  },
  {
   "cell_type": "markdown",
   "id": "42f3dcff",
   "metadata": {},
   "source": [
    "There are a total of 20 columns in the dataset, where ID columns such as VendorID and PULocationID should have a numeric data type, but are treated as objects or categories. This indicates that these columns are not correctly interpreted as numbers, which can affect the analysis performed. In addition, there are also several values ​​that should be whole numbers, not decimal numbers, for example RatecodeID, passenger_count. Finally, validation of the values ​​in the ID columns needs to be done to ensure that there are no missing or invalid values.\n",
    "\n",
    "The time columns, namely lpep_pickup_datetime and lpep_dropoff_datetime, currently have an object data type, which should be converted to a datetime data type. By converting these time columns, analysis related to trip duration and time patterns can be performed more effectively. This mismatch can hinder temporal analysis, such as identifying peak hours and average trip duration.\n",
    "\n",
    "The column naming in this dataset shows inconsistencies, especially in the use of upper and lower case letters and naming formats. Some columns use snake_case (such as PULocationID and DOLocationID), while others use mixed formats (such as lpep_pickup_datetime and fare_amount). This inconsistency can make data processing difficult, especially when using libraries such as Pandas, where consistency in column naming is essential for easy access and manipulation of data. Therefore, it is recommended to use a consistent naming convention, such as snake_case for all columns, to make data analysis easier to read and maintain (Van Rossum, 2001)."
   ]
  },
  {
   "cell_type": "code",
   "execution_count": 178,
   "id": "5ef8ebe9",
   "metadata": {},
   "outputs": [
    {
     "data": {
      "text/html": [
       "<div>\n",
       "<style scoped>\n",
       "    .dataframe tbody tr th:only-of-type {\n",
       "        vertical-align: middle;\n",
       "    }\n",
       "\n",
       "    .dataframe tbody tr th {\n",
       "        vertical-align: top;\n",
       "    }\n",
       "\n",
       "    .dataframe thead th {\n",
       "        text-align: right;\n",
       "    }\n",
       "</style>\n",
       "<table border=\"1\" class=\"dataframe\">\n",
       "  <thead>\n",
       "    <tr style=\"text-align: right;\">\n",
       "      <th></th>\n",
       "      <th>Column Name</th>\n",
       "      <th>Missing Value Counts</th>\n",
       "      <th>Percentage (%)</th>\n",
       "    </tr>\n",
       "  </thead>\n",
       "  <tbody>\n",
       "    <tr>\n",
       "      <th>3</th>\n",
       "      <td>store_and_fwd_flag</td>\n",
       "      <td>4324</td>\n",
       "      <td>6.34</td>\n",
       "    </tr>\n",
       "    <tr>\n",
       "      <th>4</th>\n",
       "      <td>RatecodeID</td>\n",
       "      <td>4324</td>\n",
       "      <td>6.34</td>\n",
       "    </tr>\n",
       "    <tr>\n",
       "      <th>7</th>\n",
       "      <td>passenger_count</td>\n",
       "      <td>4324</td>\n",
       "      <td>6.34</td>\n",
       "    </tr>\n",
       "    <tr>\n",
       "      <th>14</th>\n",
       "      <td>ehail_fee</td>\n",
       "      <td>68211</td>\n",
       "      <td>100.00</td>\n",
       "    </tr>\n",
       "    <tr>\n",
       "      <th>17</th>\n",
       "      <td>payment_type</td>\n",
       "      <td>4324</td>\n",
       "      <td>6.34</td>\n",
       "    </tr>\n",
       "    <tr>\n",
       "      <th>18</th>\n",
       "      <td>trip_type</td>\n",
       "      <td>4334</td>\n",
       "      <td>6.35</td>\n",
       "    </tr>\n",
       "    <tr>\n",
       "      <th>19</th>\n",
       "      <td>congestion_surcharge</td>\n",
       "      <td>4324</td>\n",
       "      <td>6.34</td>\n",
       "    </tr>\n",
       "  </tbody>\n",
       "</table>\n",
       "</div>"
      ],
      "text/plain": [
       "             Column Name  Missing Value Counts  Percentage (%)\n",
       "3     store_and_fwd_flag                  4324            6.34\n",
       "4             RatecodeID                  4324            6.34\n",
       "7        passenger_count                  4324            6.34\n",
       "14             ehail_fee                 68211          100.00\n",
       "17          payment_type                  4324            6.34\n",
       "18             trip_type                  4334            6.35\n",
       "19  congestion_surcharge                  4324            6.34"
      ]
     },
     "execution_count": 178,
     "metadata": {},
     "output_type": "execute_result"
    }
   ],
   "source": [
    "# Check for missing values\n",
    "trips_isnull_sum = trips.isnull().sum().reset_index()\n",
    "trips_isnull_sum[1] = trips_isnull_sum[0] / len(trips) * 100\n",
    "\n",
    "rename_columns = {0: 'Missing Value Counts', 1: 'Percentage (%)', 'index': 'Column Name'}\n",
    "trips_isnull_sum = trips_isnull_sum.rename(columns=rename_columns)\n",
    "trips_isnull_sum = trips_isnull_sum[trips_isnull_sum['Missing Value Counts']!=0]\n",
    "trips_isnull_sum"
   ]
  },
  {
   "cell_type": "markdown",
   "id": "e75fe599",
   "metadata": {},
   "source": [
    "In the analyzed dataset, there are several columns that have missing values. These columns include store_and_fwd_flag and RatecodeID, where each column shows incomplete data. This indicates that not all information needed for the analysis is available, which can affect the overall analysis results. The percentage of missing values ​​in these columns needs to be considered. For example, if the percentage of missing values ​​reaches 6%, this can be considered small, but still needs to be handled with care. According to some sources, missing values ​​below 5% are often considered negligible, while values ​​above 10% can significantly affect the analysis (Little & Rubin, 2019). Therefore, if the percentage of missing values ​​is around 6%, it is advisable to perform further imputation or analysis to understand its impact on the results.\n",
    "\n",
    "Columns that have missing values ​​can be grouped into three categories: Missing At Random (MAR), Missing Not At Random (MNAR), and Missing Completely At Random (MCAR). The store_and_fwd_flag, RatecodeID, passenger_count, payment_type, and congestion_surcharge column can be considered as MAR, because the missing values ​​may be related to other factors in the dataset, such as network conditions at the time of data collection.\n",
    "Although the difference with MAR columns only 0.01%, the trip_type column can be categorized as MNAR if the missing values ​​relate to certain characteristics of the trip that are not represented in the data. Meanwhile, if there are other columns that are not mentioned and have missing values ​​randomly without a particular pattern, the column can be considered as MCAR, which is ehail_fee. "
   ]
  },
  {
   "cell_type": "code",
   "execution_count": 179,
   "id": "9454ed9f",
   "metadata": {},
   "outputs": [
    {
     "data": {
      "text/plain": [
       "0"
      ]
     },
     "execution_count": 179,
     "metadata": {},
     "output_type": "execute_result"
    }
   ],
   "source": [
    "trips.duplicated().sum()"
   ]
  },
  {
   "cell_type": "markdown",
   "id": "712d4484",
   "metadata": {},
   "source": [
    "In order to secure data integrity during analysis, all items must accurately represent a singular observation. It is well-known that duplicates can mess up statistical calculations such as averages or totals and, in the worst case, skew the conclusions drawn from the analysis. Set out in this specific dataset, there do not exist duplicate entries, which makes the analysis more reliable and less composed. It can also be assumed that without duplicates, the meaning of what the data represents will be far easier to cluster, yielding more reliable results."
   ]
  },
  {
   "cell_type": "code",
   "execution_count": 180,
   "id": "d1aaebe8",
   "metadata": {},
   "outputs": [
    {
     "data": {
      "image/png": "[encoded data removed]",
      "text/plain": [
       "<Figure size 1800x1200 with 10 Axes>"
      ]
     },
     "metadata": {},
     "output_type": "display_data"
    }
   ],
   "source": [
    "import matplotlib.pyplot as plt\n",
    "# Check outliers\n",
    "columns_to_check = [column for column in trips.columns if trips[column].dtype in ['float64', 'int64'] and column!='ehail_fee' and 'ID' not in column and 'type' not in column]\n",
    "\n",
    "# Create boxplots for each column in separate subplots\n",
    "num_columns = len(trips.columns)\n",
    "rows = 2\n",
    "cols = 5\n",
    "\n",
    "# Create a figure with specified size\n",
    "fig, axs = plt.subplots(rows, cols, figsize=(18, 12))\n",
    "\n",
    "# Flatten the axes array for easy iteration\n",
    "axs = axs.flatten()\n",
    "\n",
    "# Create horizontal boxplots\n",
    "for i, column in enumerate(columns_to_check):\n",
    "    trips.boxplot(column=column, ax=axs[i])\n",
    "    axs[i].set_title(column.replace('_', ' ').title().replace('Mta', 'MTA'))\n",
    "\n",
    "# Adjust layout\n",
    "plt.tight_layout()\n",
    "\n",
    "# Display the plot\n",
    "plt.show()"
   ]
  },
  {
   "cell_type": "markdown",
   "id": "e23816dd",
   "metadata": {},
   "source": [
    "Outlier handling is an important step in data analysis, as outliers can affect the results of the analysis and predictive models. According to Iglewicz and Hoaglin (1993), outliers can be identified and handled using a variety of methods, including removal, transformation, or replacement with more representative values.\n",
    "\n",
    "Passenger Count: The visualization shows that the number of passengers ranges from 0 to 9, with a few outliers above 8. This may make sense in the context of taxi trips, where trips with more than 4 passengers are rare. These outliers could be input errors or specific trips. The action to be taken is to examine the data for accuracy and consider removing or changing outlier values ​​if they prove to be invalid.\n",
    "\n",
    "Trip Distance: The boxplot shows a significant outlier above 10,000. In the context of NYC, very long taxi rides are possible, but this value seems unrealistic. The action to take is to examine the trip to ensure that there is no error in the distance measurement, and consider removing or changing any values ​​that are out of line.\n",
    "\n",
    "Fare Amount: An outlier is seen above $200, which may reflect an extremely long trip or an incorrect fare. However, high fares can also occur in certain situations, such as trips to the airport. The action to take is to verify the fare and consider removing or changing the value if it is found to be invalid.\n",
    "\n",
    "Extra: The extra column shows additional charges applied to the fare, with some outliers showing very high values. This may include unusual additional charges or input errors. The recommended action is to check the additional charge details to ensure that the values ​​are valid and in accordance with the fare policy.\n",
    "\n",
    "Tip Amount: There is an outlier above $100, which may indicate an unusual tip. In the taxi industry, extremely high tips are possible, but it is important to check the data to ensure accuracy. The action to take is to verify the data and consider removing or changing the value if it does not fit the general pattern.\n",
    "\n",
    "Total Amount: An outlier above $500 indicates an extremely expensive trip. This may include long journeys or input errors. Actions to be taken include checking the data for accuracy and considering removing or changing outlier values ​​if they are found to be invalid.\n",
    "\n",
    "ID Columns and Types: ID columns such as VendorID, PULocationID, and DOLocationID should have a numeric data type, but if they are treated as objects, this can affect the analysis. Actions to be taken include converting these columns to the appropriate data type to ensure more accurate analysis.\n",
    "\n",
    "MTA Tax, Improvement Surcharge, Congestion Surcharge, and Tolls Amount: In the boxplot analysis, they have the same characteristics, which have a low frequency of values or limited variation in the data. If the values in the column tend to be constant or have only a few unique values, outlier analysis will not provide meaningful insights. This is in line with the principle that outlier analysis is more effective in columns that have more varied value distributions (Tukey, 1977).\n",
    "\n",
    "Lower Outlier: For columns that show negative or very low values, this does not make sense in the context of the taxi business, because revenue should not be negative. These values may reflect data input errors or situations where costs exceed revenue, which need to be handled carefully to maintain the integrity of the analysis."
   ]
  },
  {
   "cell_type": "markdown",
   "id": "f793e7f9",
   "metadata": {},
   "source": [
    "### Structuring\n",
    "\n",
    "The data structuring step, sometimes called data transformation, focuses on the organization of the data into a unified format so that it is suitable for analysis. This involves the combination of rows of data by using summary statistics and grouping data based on certain variables, the shifting of data between rows and columns or transforming data into other formats to prepare it for use, the combining of data from multiple tables and combining related information from disparate sources, and the changing of the data type of a variable to aid in performing calculations and applying statistical methods."
   ]
  },
  {
   "cell_type": "code",
   "execution_count": 181,
   "id": "3a44bcfa",
   "metadata": {},
   "outputs": [
    {
     "name": "stdout",
     "output_type": "stream",
     "text": [
      "<class 'pandas.core.frame.DataFrame'>\n",
      "RangeIndex: 68211 entries, 0 to 68210\n",
      "Data columns (total 20 columns):\n",
      " #   Column                 Non-Null Count  Dtype  \n",
      "---  ------                 --------------  -----  \n",
      " 0   vendor_id              68211 non-null  int64  \n",
      " 1   pickup_datetime        68211 non-null  object \n",
      " 2   dropoff_datetime       68211 non-null  object \n",
      " 3   store_and_fwd_flag     63887 non-null  object \n",
      " 4   ratecode_id            63887 non-null  float64\n",
      " 5   pickup_location_id     68211 non-null  int64  \n",
      " 6   dropoff_location_id    68211 non-null  int64  \n",
      " 7   passenger_count        63887 non-null  float64\n",
      " 8   trip_distance          68211 non-null  float64\n",
      " 9   fare_amount            68211 non-null  float64\n",
      " 10  extra                  68211 non-null  float64\n",
      " 11  mta_tax                68211 non-null  float64\n",
      " 12  tip_amount             68211 non-null  float64\n",
      " 13  tolls_amount           68211 non-null  float64\n",
      " 14  ehail_fee              0 non-null      float64\n",
      " 15  improvement_surcharge  68211 non-null  float64\n",
      " 16  total_amount           68211 non-null  float64\n",
      " 17  payment_type           63887 non-null  float64\n",
      " 18  trip_type              63877 non-null  float64\n",
      " 19  congestion_surcharge   63887 non-null  float64\n",
      "dtypes: float64(14), int64(3), object(3)\n",
      "memory usage: 10.4+ MB\n"
     ]
    }
   ],
   "source": [
    "# Renaming the columns\n",
    "rename_columns = {\n",
    "    \"VendorID\": \"vendor_id\",\n",
    "    \"lpep_pickup_datetime\": \"pickup_datetime\",\n",
    "    \"lpep_dropoff_datetime\": \"dropoff_datetime\",\n",
    "    \"store_and_fwd_flag\": \"store_and_fwd_flag\",\n",
    "    \"RatecodeID\": \"ratecode_id\",\n",
    "    \"PULocationID\": \"pickup_location_id\",\n",
    "    \"DOLocationID\": \"dropoff_location_id\",\n",
    "    \"passenger_count\": \"passenger_count\",\n",
    "    \"ehail_fee\": \"ehail_fee\",\n",
    "    \"payment_type\": \"payment_type\",\n",
    "    \"trip_type\": \"trip_type\",\n",
    "    \"congestion_surcharge\": \"congestion_surcharge\"\n",
    "}\n",
    "\n",
    "trips = trips.rename(columns=rename_columns)\n",
    "trips.info()"
   ]
  },
  {
   "cell_type": "markdown",
   "id": "ad0a1011",
   "metadata": {},
   "source": [
    "Renaming columns in a dataset can improve readability and make it easier to understand and manipulate the data. This not only makes it easier to interpret and process the data, but also reduces the likelihood of mistakes, leading to more reliable results. Therefore, changing column names is a crucial part of data analysis."
   ]
  },
  {
   "cell_type": "code",
   "execution_count": 182,
   "id": "6db57b58",
   "metadata": {},
   "outputs": [
    {
     "name": "stdout",
     "output_type": "stream",
     "text": [
      "<class 'pandas.core.frame.DataFrame'>\n",
      "RangeIndex: 68211 entries, 0 to 68210\n",
      "Data columns (total 20 columns):\n",
      " #   Column                 Non-Null Count  Dtype         \n",
      "---  ------                 --------------  -----         \n",
      " 0   vendor_id              68211 non-null  category      \n",
      " 1   pickup_datetime        68211 non-null  datetime64[ns]\n",
      " 2   dropoff_datetime       68211 non-null  datetime64[ns]\n",
      " 3   store_and_fwd_flag     63887 non-null  category      \n",
      " 4   ratecode_id            63887 non-null  category      \n",
      " 5   pickup_location_id     68211 non-null  int64         \n",
      " 6   dropoff_location_id    68211 non-null  int64         \n",
      " 7   passenger_count        63887 non-null  float64       \n",
      " 8   trip_distance          68211 non-null  float64       \n",
      " 9   fare_amount            68211 non-null  float64       \n",
      " 10  extra                  68211 non-null  float64       \n",
      " 11  mta_tax                68211 non-null  float64       \n",
      " 12  tip_amount             68211 non-null  float64       \n",
      " 13  tolls_amount           68211 non-null  float64       \n",
      " 14  ehail_fee              0 non-null      float64       \n",
      " 15  improvement_surcharge  68211 non-null  float64       \n",
      " 16  total_amount           68211 non-null  float64       \n",
      " 17  payment_type           63887 non-null  category      \n",
      " 18  trip_type              63877 non-null  category      \n",
      " 19  congestion_surcharge   63887 non-null  float64       \n",
      "dtypes: category(5), datetime64[ns](2), float64(11), int64(2)\n",
      "memory usage: 8.1 MB\n"
     ]
    }
   ],
   "source": [
    "# Data type conversion\n",
    "categoricals = [\"vendor_id\", \"store_and_fwd_flag\", \"ratecode_id\", \"payment_type\", \"trip_type\"]\n",
    "datetimes = [\"pickup_datetime\", \"dropoff_datetime\"]\n",
    "for column in categoricals:\n",
    "    trips[column] = trips[column].astype('category')\n",
    "\n",
    "for column in datetimes:\n",
    "    trips[column] = pd.to_datetime(trips[column])\n",
    "\n",
    "trips.info()"
   ]
  },
  {
   "cell_type": "markdown",
   "id": "8800499f",
   "metadata": {},
   "source": [
    "By using the right data types makes computing more efficient because operations on the right types run faster and better. Furthermore, transforming data types can be helpful in reducing RAM consumption, given that smaller data types utilize less memory. This optimization is crucial with larger datasets, as insufficient memory can hinder performance. Lastly, changing data types appropriately accelerates the processing and analyzing of the data which improves the speed of gaining insights while offering favorable results."
   ]
  },
  {
   "cell_type": "markdown",
   "id": "59f30d57",
   "metadata": {},
   "source": [
    "### Cleaning\n",
    "\n",
    "Data cleaning involves the handling of missing values, the removal of duplicates, and the correction of errors or inconsistencies. This process might also involve the smoothing of “noisy” data, that is, the application of techniques that reduce the impact of random variations or other issues in the data. When cleaning, it is important to avoid unnecessary data loss or overcleaning, which can remove valuable information or distort the data."
   ]
  },
  {
   "cell_type": "code",
   "execution_count": 183,
   "id": "ba27172b",
   "metadata": {},
   "outputs": [
    {
     "data": {
      "text/plain": [
       "vendor_id                0\n",
       "pickup_datetime          0\n",
       "dropoff_datetime         0\n",
       "store_and_fwd_flag       0\n",
       "ratecode_id              0\n",
       "pickup_location_id       0\n",
       "dropoff_location_id      0\n",
       "passenger_count          0\n",
       "trip_distance            0\n",
       "fare_amount              0\n",
       "extra                    0\n",
       "mta_tax                  0\n",
       "tip_amount               0\n",
       "tolls_amount             0\n",
       "improvement_surcharge    0\n",
       "total_amount             0\n",
       "payment_type             0\n",
       "trip_type                0\n",
       "congestion_surcharge     0\n",
       "dtype: int64"
      ]
     },
     "execution_count": 183,
     "metadata": {},
     "output_type": "execute_result"
    }
   ],
   "source": [
    "# Impute missing values\n",
    "\n",
    "# MCAR\n",
    "trips = trips.drop(columns=['ehail_fee'])\n",
    "\n",
    "# MNAR\n",
    "trips['trip_type'] = trips['trip_type'].fillna(trips['trip_type'].mode()[0])\n",
    "\n",
    "# MAR\n",
    "numericals = [\"passenger_count\", \"congestion_surcharge\"]\n",
    "for column in numericals:\n",
    "    trips[column] = trips[column].fillna(trips[column].mean())\n",
    "\n",
    "# MAR\n",
    "categoricals = [\"store_and_fwd_flag\", \"ratecode_id\", \"payment_type\"]\n",
    "for column in categoricals:\n",
    "    trips[column] = trips[column].fillna(trips[column].mode()[0])\n",
    "\n",
    "trips.isnull().sum()"
   ]
  },
  {
   "cell_type": "markdown",
   "id": "d7880d82",
   "metadata": {},
   "source": [
    "Handling for MAR and MNAR columns usually involves more complex imputation techniques, while MCAR columns can be removed without much impact on the analysis. To handle missing values ​​in MAR and MNAR columns, the Central Tendency technique can be used. For numeric data, missing values ​​can be filled with the mean or median of the column, depending on the distribution of the data; the median is preferred if there are outliers. As for categorical columns, missing values ​​can be filled with the mode, which is the most frequently occurring value in the column. This approach helps maintain data consistency and minimizes bias that may arise due to missing values ​​(Schafer & Graham, 2002)."
   ]
  },
  {
   "cell_type": "code",
   "execution_count": 184,
   "id": "07ee9637",
   "metadata": {},
   "outputs": [
    {
     "data": {
      "text/html": [
       "<div>\n",
       "<style scoped>\n",
       "    .dataframe tbody tr th:only-of-type {\n",
       "        vertical-align: middle;\n",
       "    }\n",
       "\n",
       "    .dataframe tbody tr th {\n",
       "        vertical-align: top;\n",
       "    }\n",
       "\n",
       "    .dataframe thead th {\n",
       "        text-align: right;\n",
       "    }\n",
       "</style>\n",
       "<table border=\"1\" class=\"dataframe\">\n",
       "  <thead>\n",
       "    <tr style=\"text-align: right;\">\n",
       "      <th></th>\n",
       "      <th>vendor_id</th>\n",
       "      <th>pickup_datetime</th>\n",
       "      <th>dropoff_datetime</th>\n",
       "      <th>store_and_fwd_flag</th>\n",
       "      <th>ratecode_id</th>\n",
       "      <th>pickup_location_id</th>\n",
       "      <th>dropoff_location_id</th>\n",
       "      <th>passenger_count</th>\n",
       "      <th>trip_distance</th>\n",
       "      <th>fare_amount</th>\n",
       "      <th>extra</th>\n",
       "      <th>mta_tax</th>\n",
       "      <th>tip_amount</th>\n",
       "      <th>tolls_amount</th>\n",
       "      <th>improvement_surcharge</th>\n",
       "      <th>total_amount</th>\n",
       "      <th>payment_type</th>\n",
       "      <th>trip_type</th>\n",
       "      <th>congestion_surcharge</th>\n",
       "    </tr>\n",
       "  </thead>\n",
       "  <tbody>\n",
       "    <tr>\n",
       "      <th>0</th>\n",
       "      <td>2</td>\n",
       "      <td>2023-01-01 00:26:10</td>\n",
       "      <td>2023-01-01 00:37:11</td>\n",
       "      <td>N</td>\n",
       "      <td>1</td>\n",
       "      <td>166</td>\n",
       "      <td>143</td>\n",
       "      <td>1</td>\n",
       "      <td>2.58</td>\n",
       "      <td>14.90</td>\n",
       "      <td>1.00</td>\n",
       "      <td>0.50</td>\n",
       "      <td>4.03</td>\n",
       "      <td>0.00</td>\n",
       "      <td>1.00</td>\n",
       "      <td>24.18</td>\n",
       "      <td>1</td>\n",
       "      <td>1</td>\n",
       "      <td>2.75</td>\n",
       "    </tr>\n",
       "    <tr>\n",
       "      <th>1</th>\n",
       "      <td>2</td>\n",
       "      <td>2023-01-01 00:51:03</td>\n",
       "      <td>2023-01-01 00:57:49</td>\n",
       "      <td>N</td>\n",
       "      <td>1</td>\n",
       "      <td>24</td>\n",
       "      <td>43</td>\n",
       "      <td>1</td>\n",
       "      <td>1.81</td>\n",
       "      <td>10.70</td>\n",
       "      <td>1.00</td>\n",
       "      <td>0.50</td>\n",
       "      <td>2.64</td>\n",
       "      <td>0.00</td>\n",
       "      <td>1.00</td>\n",
       "      <td>15.84</td>\n",
       "      <td>1</td>\n",
       "      <td>1</td>\n",
       "      <td>0.00</td>\n",
       "    </tr>\n",
       "    <tr>\n",
       "      <th>2</th>\n",
       "      <td>2</td>\n",
       "      <td>2023-01-01 00:35:12</td>\n",
       "      <td>2023-01-01 00:41:32</td>\n",
       "      <td>N</td>\n",
       "      <td>1</td>\n",
       "      <td>223</td>\n",
       "      <td>179</td>\n",
       "      <td>1</td>\n",
       "      <td>0.00</td>\n",
       "      <td>7.20</td>\n",
       "      <td>1.00</td>\n",
       "      <td>0.50</td>\n",
       "      <td>1.94</td>\n",
       "      <td>0.00</td>\n",
       "      <td>1.00</td>\n",
       "      <td>11.64</td>\n",
       "      <td>1</td>\n",
       "      <td>1</td>\n",
       "      <td>0.00</td>\n",
       "    </tr>\n",
       "    <tr>\n",
       "      <th>3</th>\n",
       "      <td>1</td>\n",
       "      <td>2023-01-01 00:13:14</td>\n",
       "      <td>2023-01-01 00:19:03</td>\n",
       "      <td>N</td>\n",
       "      <td>1</td>\n",
       "      <td>41</td>\n",
       "      <td>238</td>\n",
       "      <td>1</td>\n",
       "      <td>1.30</td>\n",
       "      <td>6.50</td>\n",
       "      <td>0.50</td>\n",
       "      <td>1.50</td>\n",
       "      <td>1.70</td>\n",
       "      <td>0.00</td>\n",
       "      <td>1.00</td>\n",
       "      <td>10.20</td>\n",
       "      <td>1</td>\n",
       "      <td>1</td>\n",
       "      <td>0.00</td>\n",
       "    </tr>\n",
       "    <tr>\n",
       "      <th>4</th>\n",
       "      <td>1</td>\n",
       "      <td>2023-01-01 00:33:04</td>\n",
       "      <td>2023-01-01 00:39:02</td>\n",
       "      <td>N</td>\n",
       "      <td>1</td>\n",
       "      <td>41</td>\n",
       "      <td>74</td>\n",
       "      <td>1</td>\n",
       "      <td>1.10</td>\n",
       "      <td>6.00</td>\n",
       "      <td>0.50</td>\n",
       "      <td>1.50</td>\n",
       "      <td>0.00</td>\n",
       "      <td>0.00</td>\n",
       "      <td>1.00</td>\n",
       "      <td>8.00</td>\n",
       "      <td>1</td>\n",
       "      <td>1</td>\n",
       "      <td>0.00</td>\n",
       "    </tr>\n",
       "  </tbody>\n",
       "</table>\n",
       "</div>"
      ],
      "text/plain": [
       "  vendor_id     pickup_datetime    dropoff_datetime store_and_fwd_flag  \\\n",
       "0         2 2023-01-01 00:26:10 2023-01-01 00:37:11                  N   \n",
       "1         2 2023-01-01 00:51:03 2023-01-01 00:57:49                  N   \n",
       "2         2 2023-01-01 00:35:12 2023-01-01 00:41:32                  N   \n",
       "3         1 2023-01-01 00:13:14 2023-01-01 00:19:03                  N   \n",
       "4         1 2023-01-01 00:33:04 2023-01-01 00:39:02                  N   \n",
       "\n",
       "  ratecode_id  pickup_location_id  dropoff_location_id passenger_count  \\\n",
       "0           1                 166                  143               1   \n",
       "1           1                  24                   43               1   \n",
       "2           1                 223                  179               1   \n",
       "3           1                  41                  238               1   \n",
       "4           1                  41                   74               1   \n",
       "\n",
       "   trip_distance  fare_amount  extra  mta_tax  tip_amount  tolls_amount  \\\n",
       "0           2.58        14.90   1.00     0.50        4.03          0.00   \n",
       "1           1.81        10.70   1.00     0.50        2.64          0.00   \n",
       "2           0.00         7.20   1.00     0.50        1.94          0.00   \n",
       "3           1.30         6.50   0.50     1.50        1.70          0.00   \n",
       "4           1.10         6.00   0.50     1.50        0.00          0.00   \n",
       "\n",
       "   improvement_surcharge  total_amount payment_type trip_type  \\\n",
       "0                   1.00         24.18            1         1   \n",
       "1                   1.00         15.84            1         1   \n",
       "2                   1.00         11.64            1         1   \n",
       "3                   1.00         10.20            1         1   \n",
       "4                   1.00          8.00            1         1   \n",
       "\n",
       "   congestion_surcharge  \n",
       "0                  2.75  \n",
       "1                  0.00  \n",
       "2                  0.00  \n",
       "3                  0.00  \n",
       "4                  0.00  "
      ]
     },
     "execution_count": 184,
     "metadata": {},
     "output_type": "execute_result"
    }
   ],
   "source": [
    "# Correcting some float values into integer\n",
    "integers = [\"ratecode_id\", \"passenger_count\", \"payment_type\", \"trip_type\"]\n",
    "for column in integers:\n",
    "    trips[column] = trips[column].astype(\"int64\").astype(\"category\")\n",
    "trips.head()"
   ]
  },
  {
   "cell_type": "markdown",
   "id": "ae7634d9",
   "metadata": {},
   "source": [
    "*Correcting inconsistencies in columns is vital in data wrangling because such discrepancies can lead to confusion and misinterpretation of the data. Inconsistent formats, such as varying date formats or differing capitalization in categorical variables, can hinder effective analysis and result in erroneous conclusions. By standardizing these inconsistencies, data integrity is preserved, allowing for accurate comparisons and aggregations. *"
   ]
  },
  {
   "cell_type": "markdown",
   "id": "5394eafb",
   "metadata": {},
   "source": [
    "### Enriching\n",
    "\n",
    "Data enrichment involves the addition of new information to existing data sets to enhance their value. Sometimes called data augmentation, it involves the assessment of what additional information is necessary and where it might come from. Then, the additional information must be integrated with the existing data set and cleaned in the same ways as the original data. Data enrichment might involve pulling in demographic, geographic, behavioral, or environmental data relevant to the intended use case."
   ]
  },
  {
   "cell_type": "markdown",
   "id": "74a08d1d",
   "metadata": {},
   "source": [
    "#### Assessing Additional Information Needs: \n",
    "The assessment of what additional information is necessary and where it might come from is conducted."
   ]
  },
  {
   "cell_type": "markdown",
   "id": "88ededc5",
   "metadata": {},
   "source": [
    "#### Integrating Additional Information: \n",
    "The additional information is integrated with the existing data set."
   ]
  },
  {
   "cell_type": "markdown",
   "id": "07b79633",
   "metadata": {
    "vscode": {
     "languageId": "plaintext"
    }
   },
   "source": [
    "#### Cleaning Integrated Data: \n",
    "The integrated data is cleaned in the same ways as the original data."
   ]
  },
  {
   "cell_type": "markdown",
   "id": "4374a8ef",
   "metadata": {
    "vscode": {
     "languageId": "plaintext"
    }
   },
   "source": [
    "#### Pulling Relevant Data: \n",
    "Demographic, geographic, behavioral, or environmental data relevant to the intended use case is pulled in."
   ]
  },
  {
   "cell_type": "markdown",
   "id": "20c67d41",
   "metadata": {},
   "source": [
    "### Validating\n",
    "\n",
    "This step involves the verification of the accuracy and consistency of the wrangled data. First, validation rules must be established based on business logic, data constraints, and other issues. Then, validation techniques are applied, such as data type validation, range or format checks, consistency checks, uniqueness checks, crossfield validation, and statistical analysis. After thorough validation, a business might publish the wrangled data or prepare it for use in applications. This process might involve loading the data into a data warehouse, creating data visualizations, or exporting the data in a specific format for use with machine learning algorithms."
   ]
  },
  {
   "cell_type": "markdown",
   "id": "37db0b1b",
   "metadata": {},
   "source": [
    "#### Establishing Validation Rules: \n",
    "Validation rules are established based on business logic, data constraints, and other issues."
   ]
  },
  {
   "cell_type": "markdown",
   "id": "0ba8e8a6",
   "metadata": {
    "vscode": {
     "languageId": "plaintext"
    }
   },
   "source": [
    "#### Applying Validation Techniques: \n",
    "Validation techniques such as data type validation, range or format checks, consistency checks, uniqueness checks, cross-field validation, and statistical analysis are applied."
   ]
  },
  {
   "cell_type": "markdown",
   "id": "99319053",
   "metadata": {
    "vscode": {
     "languageId": "plaintext"
    }
   },
   "source": [
    "#### Publishing or Preparing Data: \n",
    "After thorough validation, the wrangled data is published or prepared for use in applications."
   ]
  },
  {
   "cell_type": "markdown",
   "id": "fd464a76",
   "metadata": {
    "vscode": {
     "languageId": "plaintext"
    }
   },
   "source": [
    "#### Loading Data: \n",
    "The data is loaded into a data warehouse."
   ]
  },
  {
   "cell_type": "markdown",
   "id": "d100665b",
   "metadata": {
    "vscode": {
     "languageId": "plaintext"
    }
   },
   "source": [
    "#### Creating Data Visualizations: \n",
    "Data visualizations are created."
   ]
  },
  {
   "cell_type": "markdown",
   "id": "ccd080b4",
   "metadata": {
    "vscode": {
     "languageId": "plaintext"
    }
   },
   "source": [
    "#### Exporting Data: \n",
    "The data is exported in a specific format for use with machine learning algorithms."
   ]
  },
  {
   "cell_type": "markdown",
   "id": "be1523cc",
   "metadata": {},
   "source": [
    "# Exploratory Data Analysis (EDA)\n",
    "Exploratory Data Analysis (EDA) is a fundamental process in data science that involves examining datasets to uncover underlying patterns, trends, and anomalies without making prior assumptions about the data. It is akin to exploring a new environment, where data scientists meticulously inspect various aspects of the dataset, such as distributions, relationships, and potential outliers. EDA employs a combination of statistical techniques and visualization tools to summarize and visualize data. EDA helps in understanding the data structure, identifying missing values, and detecting outliers, which are crucial for building accurate models.\n",
    "\n",
    "EDA is essential for ensuring data quality and integrity before proceeding to more complex analyses. It helps in generating accurate models by identifying and addressing issues in the data. EDA prevents the use of wrong data and inefficient resource use by ensuring proper data preparation. It aids in creating the right types of variables, which is critical for effective data preparation."
   ]
  },
  {
   "cell_type": "markdown",
   "id": "d9f5bcba",
   "metadata": {
    "vscode": {
     "languageId": "plaintext"
    }
   },
   "source": [
    "## Univariate Analysis: \n",
    "Examines individual variables to understand their distributions and summary statistics. Suitable visualizations include histograms, box plots, and violin plots."
   ]
  },
  {
   "cell_type": "markdown",
   "id": "a65def93",
   "metadata": {
    "vscode": {
     "languageId": "plaintext"
    }
   },
   "source": [
    "## Bivariate Analysis: \n",
    "Explores the relationship between two variables. Suitable visualizations include scatter plots, pair plots, and heatmaps."
   ]
  },
  {
   "cell_type": "markdown",
   "id": "83ffd2c2",
   "metadata": {
    "vscode": {
     "languageId": "plaintext"
    }
   },
   "source": [
    "## Multivariate Analysis: \n",
    "Analyzes interactions among multiple variables. Suitable visualizations include contour plots and 3D scatter plots."
   ]
  },
  {
   "cell_type": "markdown",
   "id": "6e67a539",
   "metadata": {
    "vscode": {
     "languageId": "plaintext"
    }
   },
   "source": [
    "## Visualization Techniques: \n",
    "Utilizes various charts to depict data distributions and trends. Common visualizations include bar charts, line charts, scatter plots, and heatmaps."
   ]
  },
  {
   "cell_type": "markdown",
   "id": "244861b4",
   "metadata": {
    "vscode": {
     "languageId": "plaintext"
    }
   },
   "source": [
    "## Outlier Detection: \n",
    "Identifies anomalies within the data. Suitable tools include box plots, z-score analysis, and scatter plots."
   ]
  },
  {
   "cell_type": "markdown",
   "id": "08867803",
   "metadata": {
    "vscode": {
     "languageId": "plaintext"
    }
   },
   "source": [
    "## Statistical Tests: \n",
    "Validates hypotheses or discerns significant differences between groups. Common tests include t-tests, chi-square tests, and ANOVA."
   ]
  },
  {
   "cell_type": "markdown",
   "id": "4b39f955",
   "metadata": {
    "vscode": {
     "languageId": "plaintext"
    }
   },
   "source": [
    "## Cumulative Distribution Function (CDF) Plots: \n",
    "Quantify the probability that a variable will take a value less than or equal to a specific value, providing a cumulative measure of the distribution."
   ]
  },
  {
   "cell_type": "markdown",
   "id": "904ad84c",
   "metadata": {
    "vscode": {
     "languageId": "plaintext"
    }
   },
   "source": [
    "## Pair Plot: \n",
    "Visualizes pairwise relationships between variables in a dataset, displaying both the distributions of individual variables and their relationships."
   ]
  },
  {
   "cell_type": "markdown",
   "id": "d47b844c",
   "metadata": {
    "vscode": {
     "languageId": "plaintext"
    }
   },
   "source": [
    "## Joint Plot: \n",
    "Provides a detailed view of the relationship between two variables along with their individual distributions."
   ]
  },
  {
   "cell_type": "markdown",
   "id": "924ae0a8",
   "metadata": {
    "vscode": {
     "languageId": "plaintext"
    }
   },
   "source": [
    "## Heatmap: \n",
    "Visualizes the correlation between different variables using color coding to represent the strength of the correlations."
   ]
  },
  {
   "cell_type": "markdown",
   "id": "7b33709e",
   "metadata": {
    "vscode": {
     "languageId": "plaintext"
    }
   },
   "source": [
    "## Contour Plot: \n",
    "Represents a 3-dimensional surface by plotting constant z slices, called contours, in a 2-dimensional format, allowing visualization of complex relationships between three variables."
   ]
  },
  {
   "cell_type": "markdown",
   "id": "baed7cd8",
   "metadata": {
    "vscode": {
     "languageId": "plaintext"
    }
   },
   "source": [
    "## 3D Scatter Plot: \n",
    "Extends traditional scatter plots into three dimensions, allowing visualization of the relationship among three variables."
   ]
  },
  {
   "cell_type": "markdown",
   "id": "a1cda652",
   "metadata": {},
   "source": [
    "## References\n",
    "\n",
    "Iglewicz, B., & Hoaglin, D. C. (1993). *How to Detect and Handle Outliers*. Sage Publications.\n",
    "\n",
    "Little, R. J. A., & Rubin, D. B. (2019). *Statistical Analysis with Missing Data*. Wiley.\n",
    "\n",
    "McGrath, A., & Jonker, A. (2024). *What is data wrangling?*. IBM. Retrieved from https://www.ibm.com/think/topics/data-wrangling\n",
    "\n",
    "New York City Taxi and Limousine Commission. (n.d.). *TLC trip record data*. https://www.nyc.gov/site/tlc/about/tlc-trip-record-data.page\n",
    "\n",
    "Pratik. (2025). *Transform your career: Build AI agents with our essential roadmap*. Analytics Vidhya. Retrieved from https://www.analyticsvidhya.com/blog/2021/08/exploratory-data-analysis-and-visualization-techniques-in-data-science/#h-data-preparation\n",
    "\n",
    "Schafer, J. L., & Graham, J. W. (2002). Missing data: Our view of the state of the art. *Psychological Methods*, 7(2), 147-177.\n",
    "\n",
    "Tukey, J. W. (1977). Exploratory Data Analysis. Addison-Wesley.\n",
    "\n",
    "Van Rossum, G. (2001). PEP 8 -- Style Guide for Python Code. Retrieved from https://www.python.org/dev/peps/pep-0008/"
   ]
  }
 ],
 "metadata": {
  "kernelspec": {
   "display_name": "base",
   "language": "python",
   "name": "python3"
  },
  "language_info": {
   "codemirror_mode": {
    "name": "ipython",
    "version": 3
   },
   "file_extension": ".py",
   "mimetype": "text/x-python",
   "name": "python",
   "nbconvert_exporter": "python",
   "pygments_lexer": "ipython3",
   "version": "3.12.7"
  }
 },
 "nbformat": 4,
 "nbformat_minor": 5
}
